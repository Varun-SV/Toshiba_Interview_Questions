{
 "cells": [
  {
   "cell_type": "markdown",
   "metadata": {},
   "source": [
    "## Q1. To print 100 prime numbers"
   ]
  },
  {
   "cell_type": "code",
   "execution_count": null,
   "metadata": {},
   "outputs": [
    {
     "name": "stdout",
     "output_type": "stream",
     "text": [
      "2 3 4 5 7 11 13 17 19 23 29 31 37 41 43 47 53 59 61 67 71 73 79 83 89 97 "
     ]
    }
   ],
   "source": [
    "##To print 100 prime numbers\n",
    "def is_prime(n):\n",
    "    if n == 1:\n",
    "        return False\n",
    "    for i in range(2, n//2):\n",
    "        if n % i == 0:\n",
    "            return False\n",
    "    return True\n",
    "def print_prime(n):\n",
    "    for i in range(1, n+1):\n",
    "        if is_prime(i):\n",
    "            print(i,end=' ')\n",
    "print_prime(100)"
   ]
  },
  {
   "cell_type": "markdown",
   "metadata": {},
   "source": [
    "## Q2. To change the least significant bit of a number to zero"
   ]
  },
  {
   "cell_type": "code",
   "execution_count": null,
   "metadata": {},
   "outputs": [
    {
     "name": "stdout",
     "output_type": "stream",
     "text": [
      "388\n"
     ]
    }
   ],
   "source": [
    "n = 389\n",
    "n = n>>1\n",
    "n = n<<1\n",
    "print(n)"
   ]
  },
  {
   "cell_type": "markdown",
   "metadata": {},
   "source": [
    "## Q3. To change the bit value present at any index without using arithmetic operators"
   ]
  },
  {
   "cell_type": "code",
   "execution_count": null,
   "metadata": {},
   "outputs": [
    {
     "name": "stdout",
     "output_type": "stream",
     "text": [
      "number in binary: 1101\n",
      "number & index: 1001\n"
     ]
    }
   ],
   "source": [
    "n = 13\n",
    "index = 2\n",
    "index = 2<<index\n",
    "index = (~index)\n",
    "bin_n = format(n,'b')\n",
    "bin_index = format(index,'b')\n",
    "print(\"number in binary:\",bin_n)\n",
    "print(\"number & index:\",format(-(n and index),'b'))\n"
   ]
  },
  {
   "cell_type": "markdown",
   "metadata": {},
   "source": [
    "## Q4. Given a Number in binary check if it is divisible by other number in binary or not."
   ]
  },
  {
   "cell_type": "code",
   "execution_count": null,
   "metadata": {},
   "outputs": [
    {
     "name": "stdout",
     "output_type": "stream",
     "text": [
      "Divisible\n"
     ]
    }
   ],
   "source": [
    "given_number = '11000' #binary representation of 56\n",
    "divisibility = '1000'   #binary representation of 8\n",
    "## To check if given number is divisible by 'divisibility' just check if the last 'divisibility' bits are present in the 'given number'.\n",
    "if divisibility in given_number[-len(divisibility):]:\n",
    "    print(\"Divisible\")\n",
    "else:\n",
    "    print(\"Not divisible\")\n",
    "\n"
   ]
  }
 ],
 "metadata": {
  "kernelspec": {
   "display_name": "Python 3.10.6 64-bit (windows store)",
   "language": "python",
   "name": "python3"
  },
  "language_info": {
   "name": "python",
   "version": "3.10.6"
  },
  "orig_nbformat": 4,
  "vscode": {
   "interpreter": {
    "hash": "101a6ff7ecee390d2e1890350f9112fbc4081685c615de8bd7d4ce8ede852617"
   }
  }
 },
 "nbformat": 4,
 "nbformat_minor": 2
}
